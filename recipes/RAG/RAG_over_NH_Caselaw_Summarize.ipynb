{
 "cells": [
  {
   "cell_type": "markdown",
   "metadata": {
    "colab_type": "text",
    "id": "view-in-github"
   },
   "source": [
    "<a href=\"https://colab.research.google.com/github/rakshit-naidu-gt/granite-legal-cookbook/blob/main/recipes/RAG/RAG_over_NH_Caselaw_Summarize.ipynb\" target=\"_parent\"><img src=\"https://colab.research.google.com/assets/colab-badge.svg\" alt=\"Open In Colab\"/></a>"
   ]
  },
  {
   "cell_type": "markdown",
   "metadata": {
    "id": "youaN2VJR8wv",
    "pycharm": {
     "name": "#%% md\n"
    }
   },
   "source": [
    "# Retrieval Augmented Generation (RAG) using New Hampshire Case Law\n",
    "*With IBM Granite Models*\n",
    "\n",
    "The [New Hampshire Case Law Dataset](https://huggingface.co/datasets/free-law/nh) comes from the Caselaw Access Project via Hugging Face."
   ]
  },
  {
   "cell_type": "markdown",
   "metadata": {
    "collapsed": false,
    "id": "9GOC7jYcR8wx",
    "jupyter": {
     "outputs_hidden": false
    },
    "pycharm": {
     "name": "#%% md\n"
    }
   },
   "source": [
    "## In this notebook\n",
    "This notebook contains instructions for performing Retrieval Augumented Generation (RAG). RAG is an architectural pattern that can be used to augment the performance of language models by recalling factual information from a knowledge base, and adding that information to the model query. The most common approach in RAG is to create dense vector representations of the knowledge base in order to retrieve text chunks that are semantically similar to a given user query.\n",
    "\n",
    "RAG use cases include:\n",
    "- Customer service: Answering questions about a product or service using facts from the product documentation.\n",
    "- Domain knowledge: Exploring a specialized domain (e.g., finance) using facts from papers or articles in the knowledge base.\n",
    "- News chat: Chatting about current events by calling up relevant recent news articles.\n",
    "\n",
    "In its simplest form, RAG requires 3 steps:\n",
    "\n",
    "- Initial setup:\n",
    "  - Index knowledge-base passages for efficient retrieval. In this recipe, we take embeddings of the passages using WatsonX, and store them in a vector database.\n",
    "- Upon each user query:\n",
    "  - Retrieve relevant passages from the database. In this recipe, we using an embedding of the query to retrieve semantically similar passages.\n",
    "  - Generate a response by feeding retrieved passage into a large language model, along with the user query."
   ]
  },
  {
   "cell_type": "markdown",
   "metadata": {
    "id": "e2NV7vvIR8wx"
   },
   "source": [
    "## Prerequisites\n",
    "\n",
    "To get started, you'll need:\n",
    "* A [Replicate account](https://replicate.com/) and API token."
   ]
  },
  {
   "cell_type": "markdown",
   "metadata": {
    "collapsed": false,
    "id": "GyzaG20ER8wx",
    "jupyter": {
     "outputs_hidden": false
    },
    "pycharm": {
     "name": "#%% md\n"
    }
   },
   "source": [
    "## Setting up the environment"
   ]
  },
  {
   "cell_type": "markdown",
   "metadata": {
    "collapsed": false,
    "id": "sYjvk17FR8wx",
    "jupyter": {
     "outputs_hidden": false
    },
    "pycharm": {
     "name": "#%% md\n"
    }
   },
   "source": [
    "### Install dependencies\n",
    "\n",
    "Granite utils comes with a bundle of dependencies that are required for notebooks."
   ]
  },
  {
   "cell_type": "code",
   "execution_count": null,
   "metadata": {
    "id": "FvopnPgHR8wy",
    "jupyter": {
     "outputs_hidden": false
    },
    "pycharm": {
     "name": "#%%\n"
    }
   },
   "outputs": [],
   "source": [
    "%pip install git+https://github.com/ibm-granite-community/utils.git \\\n",
    "    langchain_community \\\n",
    "    replicate \\\n",
    "    'langchain_huggingface[full]' \\\n",
    "    langchain_milvus \\\n",
    "    datasets \\\n",
    "    transformers \\\n",
    "    tiktoken"
   ]
  },
  {
   "cell_type": "markdown",
   "metadata": {
    "id": "dlzusa0mR8wy"
   },
   "source": [
    "## Selecting System Components"
   ]
  },
  {
   "cell_type": "markdown",
   "metadata": {
    "id": "R1Baot7FR8wy"
   },
   "source": [
    "### Choose your Embeddings Model"
   ]
  },
  {
   "cell_type": "markdown",
   "metadata": {
    "id": "-gL6mNK2R8wy"
   },
   "source": [
    "Specify the model to use for generating embedding vectors from text.\n",
    "\n",
    "To use a model from a provider other than Huggingface, replace this code cell with one from [this Embeddings Model recipe](https://github.com/ibm-granite-community/utils/blob/main/recipes/Components/Langchain_Embeddings_Models.ipynb)."
   ]
  },
  {
   "cell_type": "code",
   "execution_count": null,
   "metadata": {
    "id": "WAlDyH-_R8wz"
   },
   "outputs": [],
   "source": [
    "from langchain_huggingface import HuggingFaceEmbeddings\n",
    "\n",
    "embeddings_model = HuggingFaceEmbeddings(model_name=\"ibm-granite/granite-embedding-30m-english\")"
   ]
  },
  {
   "cell_type": "markdown",
   "metadata": {
    "id": "nztgZipOR8wz"
   },
   "source": [
    "### Choose your Vector Database\n",
    "\n",
    "Specify the database to use for storing and retrieving embedding vectors.\n",
    "\n",
    "To connect to a vector database other than Milvus, substitute this code cell with one from [this Vector Store recipe](https://github.com/ibm-granite-community/utils/blob/main/recipes/Components/Langchain_Vector_Stores.ipynb)."
   ]
  },
  {
   "cell_type": "code",
   "execution_count": null,
   "metadata": {
    "id": "AbzHjq0SR8wz"
   },
   "outputs": [],
   "source": [
    "from langchain_milvus import Milvus\n",
    "import tempfile\n",
    "\n",
    "db_file = tempfile.NamedTemporaryFile(prefix=\"milvus_\", suffix=\".db\", delete=False).name\n",
    "print(f\"The vector database will be saved to {db_file}\")\n",
    "\n",
    "vector_db = Milvus(\n",
    "    embedding_function=embeddings_model,\n",
    "    connection_args={\"uri\": db_file},\n",
    "    auto_id=True,\n",
    "    index_params={\"index_type\": \"AUTOINDEX\"},\n",
    ")"
   ]
  },
  {
   "cell_type": "markdown",
   "metadata": {
    "collapsed": false,
    "id": "YhdIU0tGR8wz",
    "jupyter": {
     "outputs_hidden": false
    },
    "pycharm": {
     "name": "#%% md\n"
    }
   },
   "source": [
    "### Choose your LLM\n",
    "The LLM will be used for answering the question, given the retrieved text.\n",
    "\n",
    "Follow the instructions in [Getting Started with Replicate](https://github.com/ibm-granite-community/granite-kitchen/blob/cee1513c77429d7ddbf0e5a49b29b7bc9ca0d996/recipes/Getting_Started/Getting_Started_with_Replicate.ipynb), selecting a Granite Code model from the [`ibm-granite`](https://replicate.com/ibm-granite) org.\n",
    "\n",
    "To connect to a model on a provider other than Replicate, substitute this code cell with one from the [LLM component recipe](https://github.com/ibm-granite-community/granite-kitchen/blob/main/recipes/Components/Langchain_LLMs.ipynb)."
   ]
  },
  {
   "cell_type": "code",
   "execution_count": null,
   "metadata": {
    "id": "RIoBygv1R8wz"
   },
   "outputs": [],
   "source": [
    "from langchain_community.llms import Replicate\n",
    "from ibm_granite_community.notebook_utils import get_env_var\n",
    "\n",
    "model_path = \"ibm-granite/granite-3.3-8b-instruct\"\n",
    "\n",
    "model = Replicate(\n",
    "    model=model_path,\n",
    "    replicate_api_token=get_env_var('REPLICATE_API_TOKEN'),\n",
    ")"
   ]
  },
  {
   "cell_type": "markdown",
   "metadata": {
    "id": "QjeymZ2_R8wz"
   },
   "source": [
    "Get the tokenizer used by your chosen model."
   ]
  },
  {
   "cell_type": "code",
   "execution_count": null,
   "metadata": {
    "id": "UBcF_IaeR8wz"
   },
   "outputs": [],
   "source": [
    "from transformers import AutoTokenizer\n",
    "\n",
    "tokenizer = AutoTokenizer.from_pretrained(model_path)"
   ]
  },
  {
   "cell_type": "markdown",
   "metadata": {
    "id": "GLnDc4vmR8wz"
   },
   "source": [
    "## Acquiring the Data\n",
    "\n",
    "We will use a New Hampshire case law dataset to help the model answer questions about NH laws."
   ]
  },
  {
   "cell_type": "markdown",
   "metadata": {
    "id": "UXMXm35UR8wz"
   },
   "source": [
    "### Download the documents\n",
    "\n",
    "Download the [New Hampshire CAP Caselaw](https://huggingface.co/datasets/free-law/nh) dataset from HuggingFace using the datasets library."
   ]
  },
  {
   "cell_type": "code",
   "execution_count": null,
   "metadata": {
    "id": "rZMLsM9CR8wz",
    "jupyter": {
     "outputs_hidden": false
    },
    "pycharm": {
     "name": "#%%\n"
    }
   },
   "outputs": [],
   "source": [
    "from langchain.document_loaders import HuggingFaceDatasetLoader\n",
    "\n",
    "# Load the documents from the dataset\n",
    "loader = HuggingFaceDatasetLoader(\"free-law/nh\", page_content_column=\"text\")\n",
    "documents = loader.load()\n",
    "print(\"Document Count: \" + str(len(documents)))"
   ]
  },
  {
   "cell_type": "markdown",
   "metadata": {
    "id": "-7w9tPFUR8wz"
   },
   "source": [
    "### Add metadata to the documents\n",
    "\n",
    "Add the `source` field, which is used below, to the metadata."
   ]
  },
  {
   "cell_type": "code",
   "execution_count": null,
   "metadata": {
    "id": "RuhttBF_R8wz"
   },
   "outputs": [],
   "source": [
    "for doc in documents:\n",
    "    doc.metadata['source'] = doc.metadata['id']"
   ]
  },
  {
   "cell_type": "markdown",
   "metadata": {
    "id": "4JvODkIjR8wz"
   },
   "source": [
    "### Inspect the documents"
   ]
  },
  {
   "cell_type": "code",
   "execution_count": null,
   "metadata": {
    "id": "Urp6u4SER8wz"
   },
   "outputs": [],
   "source": [
    "for doc in documents[:1]:\n",
    "    print(doc.metadata, \"\\n\")\n",
    "    print(doc.page_content, \"\\n\")"
   ]
  },
  {
   "cell_type": "markdown",
   "metadata": {
    "id": "3ZUTY-BfR8wz"
   },
   "source": [
    "## Building the Document Database\n",
    "\n",
    "We'll use the caselaw document database to retrieve the full text of the cases by case id."
   ]
  },
  {
   "cell_type": "markdown",
   "metadata": {
    "id": "E3nZXMbCR8wz"
   },
   "source": [
    "### Create the database file and document table"
   ]
  },
  {
   "cell_type": "code",
   "execution_count": null,
   "metadata": {
    "id": "yXQ3pVjTR8w0"
   },
   "outputs": [],
   "source": [
    "# put the json objects in a sqlite database, keyed by id\n",
    "import sqlite3, os, json\n",
    "\n",
    "# remove database file if exists\n",
    "if os.path.isfile('data.db'):\n",
    "    os.remove('data.db')\n",
    "\n",
    "conn = sqlite3.connect('data.db')\n",
    "c = conn.cursor()\n",
    "\n",
    "# create the table if it doesn't exist. include id, text, and size\n",
    "c.execute('''CREATE TABLE IF NOT EXISTS data\n",
    "             (id INTEGER PRIMARY KEY UNIQUE,\n",
    "              metadata TEXT,\n",
    "              text TEXT,\n",
    "              char_count INTEGER)''')"
   ]
  },
  {
   "cell_type": "markdown",
   "metadata": {
    "id": "zKMoG_8xR8w0"
   },
   "source": [
    "### Insert the documents into the table"
   ]
  },
  {
   "cell_type": "code",
   "execution_count": null,
   "metadata": {
    "id": "2vcp-rFaR8w0"
   },
   "outputs": [],
   "source": [
    "for doc in documents:\n",
    "    id = doc.metadata[\"id\"]\n",
    "    c.execute(\"INSERT INTO data (id, metadata, text, char_count) VALUES (?,?,?,?)\", (id, json.dumps(doc.metadata), doc.page_content, doc.metadata[\"char_count\"]))\n",
    "    conn.commit()"
   ]
  },
  {
   "cell_type": "markdown",
   "metadata": {
    "id": "wWuvLZCeR8w0"
   },
   "source": [
    "### Count the documents"
   ]
  },
  {
   "cell_type": "code",
   "execution_count": null,
   "metadata": {
    "id": "UkxC0dxtR8w0"
   },
   "outputs": [],
   "source": [
    "c.execute(\"SELECT count(*) FROM data\")\n",
    "doc_count = c.fetchone()[0]\n",
    "print(f\"Document count: {doc_count}\")"
   ]
  },
  {
   "cell_type": "markdown",
   "metadata": {
    "collapsed": false,
    "id": "H6W8dsohR8w0",
    "jupyter": {
     "outputs_hidden": false
    },
    "pycharm": {
     "name": "#%% md\n"
    }
   },
   "source": [
    "## Building the Vector Database\n",
    "\n",
    "In this example, we take the caselaw text, split it into chunks, derive embedding vectors using the embedding model, and load it into the vector database for querying."
   ]
  },
  {
   "cell_type": "markdown",
   "metadata": {
    "id": "qoQdJf5WR8w0"
   },
   "source": [
    "### Split the document into chunks\n",
    "\n",
    "Split the document into text segments that can fit into the model's context window."
   ]
  },
  {
   "cell_type": "code",
   "execution_count": null,
   "metadata": {
    "id": "kbEpZBBoR8w0",
    "jupyter": {
     "outputs_hidden": false
    },
    "pycharm": {
     "name": "#%%\n"
    }
   },
   "outputs": [],
   "source": [
    "from langchain.text_splitter import TokenTextSplitter\n",
    "\n",
    "# Split the documents into chunks\n",
    "text_splitter = TokenTextSplitter(chunk_size=1000, chunk_overlap=10)\n",
    "chunks = text_splitter.split_documents(documents)\n",
    "print(\"Chunk Count: \" + str(len(chunks)))"
   ]
  },
  {
   "cell_type": "markdown",
   "metadata": {
    "id": "7_t9e28-R8w0"
   },
   "source": [
    "### Inspect the chunks"
   ]
  },
  {
   "cell_type": "code",
   "execution_count": null,
   "metadata": {
    "id": "G1bv49llR8w0"
   },
   "outputs": [],
   "source": [
    "import json\n",
    "for i in range(1):\n",
    "    print(chunks[i].page_content)\n",
    "    print(json.dumps(chunks[i].metadata, indent=4))"
   ]
  },
  {
   "cell_type": "markdown",
   "metadata": {
    "collapsed": false,
    "id": "qpfU364NR8w0",
    "jupyter": {
     "outputs_hidden": false
    },
    "pycharm": {
     "name": "#%% md\n"
    }
   },
   "source": [
    "### Populate the vector database\n",
    "\n",
    "NOTE: Population of the vector database may take a few minutes depending on your embedding model and service."
   ]
  },
  {
   "cell_type": "code",
   "execution_count": null,
   "metadata": {
    "id": "JhEw9ViSR8w0"
   },
   "outputs": [],
   "source": [
    "ids = vector_db.add_documents(chunks)\n",
    "print(\"Document IDs: \" + str(ids[:3]))"
   ]
  },
  {
   "cell_type": "markdown",
   "metadata": {
    "id": "pOavqROER8w0"
   },
   "source": [
    "## Querying the Databases"
   ]
  },
  {
   "cell_type": "markdown",
   "metadata": {
    "id": "moRZTWmlR8w0"
   },
   "source": [
    "### Create query text\n",
    "\n",
    "Here we use a topic of NH law to query into the vector database for relevant cases. Because we will consider one case at a time (due to context length restrictions), phrase the query to consider a single case."
   ]
  },
  {
   "cell_type": "code",
   "execution_count": null,
   "metadata": {
    "id": "mv0FAmb8R8w3"
   },
   "outputs": [],
   "source": [
    "query = \"Summarize this court case about the Suspension and Expulsion of Pupils, using the IRAC framework (Issue, Rule, Application, Conclusion).\\n\\n\""
   ]
  },
  {
   "cell_type": "markdown",
   "metadata": {
    "id": "ZH1K78TyR8w3"
   },
   "source": [
    "### Query the vector database\n",
    "\n",
    "Query the vector database for cases related to the law. Similar documents are found by proximity of the embedded vector in vector space."
   ]
  },
  {
   "cell_type": "code",
   "execution_count": null,
   "metadata": {
    "id": "emlAqcyiR8w3"
   },
   "outputs": [],
   "source": [
    "k = 10  # the number of docs to retrieve\n",
    "docs_with_score = vector_db.similarity_search_with_score(query, k=k)\n",
    "\n",
    "# Get a unique set of docs.\n",
    "docs_list = []\n",
    "doc_ids = {}\n",
    "for doc, score in docs_with_score:\n",
    "    # print(doc.metadata[\"name_abbreviation\"])\n",
    "    # print(score)\n",
    "    id = doc.metadata[\"id\"]\n",
    "    # print(id)\n",
    "    if id not in doc_ids:\n",
    "        docs_list.append(doc)\n",
    "        print(id, \" - \", doc.metadata[\"name_abbreviation\"])\n",
    "        doc_ids[id] = 1"
   ]
  },
  {
   "cell_type": "markdown",
   "metadata": {
    "id": "35YPaEVkR8w4"
   },
   "source": [
    "### Query the document database\n",
    "\n",
    "Get the full text of the first case found by the vector search."
   ]
  },
  {
   "cell_type": "markdown",
   "metadata": {
    "id": "m9Pyaut2R8w4"
   },
   "source": [
    "Get a list of unique doc ids."
   ]
  },
  {
   "cell_type": "code",
   "execution_count": null,
   "metadata": {
    "id": "BCAeWjIZR8w4"
   },
   "outputs": [],
   "source": [
    "# Get a list of unique doc ids.\n",
    "docs_ids_seen = set()\n",
    "uq_docs = [doc for doc in docs_list if not (doc.metadata[\"id\"] in docs_ids_seen or docs_ids_seen.add(doc.metadata[\"id\"]))]"
   ]
  },
  {
   "cell_type": "markdown",
   "metadata": {
    "id": "drFA8i2eR8w4"
   },
   "source": []
  },
  {
   "cell_type": "code",
   "execution_count": null,
   "metadata": {
    "id": "pzMG9Xt1R8w4"
   },
   "outputs": [],
   "source": [
    "# Retrieve a number of cases.\n",
    "cases = []\n",
    "\n",
    "for doc in uq_docs:\n",
    "    source_id = doc.metadata[\"source\"]\n",
    "    # print(source_id)\n",
    "    case_short_name = doc.metadata[\"name_abbreviation\"]\n",
    "\n",
    "    c.execute(\"SELECT text FROM data WHERE json_extract(metadata, '$.source') = ?\", (source_id,))\n",
    "    result = c.fetchone()\n",
    "\n",
    "    if result is None:\n",
    "        print(f\"Warning: No text found for source {source_id}\")\n",
    "        continue\n",
    "\n",
    "    case_text = result[0]\n",
    "    if case_text is None:\n",
    "        print(f\"Warning: Text is NULL for source {source_id}\")\n",
    "        continue\n",
    "\n",
    "    case_length = len(tokenizer.tokenize(case_text))\n",
    "\n",
    "    # For this recipe, only consider cases that can fit in the 4k context window (along with the 512 token output).\n",
    "    if case_length < 3500:\n",
    "        cases.append({\n",
    "        'vector_id': doc.metadata.get(\"id\"),  # vector ID\n",
    "        'source_id': source_id,               # matching source ID\n",
    "        'short_name': case_short_name,\n",
    "        'text': case_text,\n",
    "        'length': case_length\n",
    "        })\n",
    "    \n",
    "    print(f\"✓ Successfully matched: {case_short_name} (source: {source_id})\")"
   ]
  },
  {
   "cell_type": "markdown",
   "metadata": {
    "id": "ZRVsiWzWR8w4"
   },
   "source": [
    "## Answering Questions"
   ]
  },
  {
   "cell_type": "markdown",
   "metadata": {
    "id": "EK0TYfWeR8w4"
   },
   "source": [
    "### Assemble the Chat Prompt\n",
    "\n",
    "Build a chat prompt template with the law and the retrieved case."
   ]
  },
  {
   "cell_type": "code",
   "execution_count": null,
   "metadata": {
    "id": "H84friRMR8w4"
   },
   "outputs": [],
   "source": [
    "from langchain_core.prompts import ChatPromptTemplate\n",
    "from langchain_core.output_parsers import StrOutputParser\n",
    "\n",
    "system_prompt = (\n",
    "    \"You are an assistant with legal expertise. Answer the question based only on the following text from a NH court case. Do not include any other court cases. \\n\\n{case_text}\"\n",
    ")\n",
    "\n",
    "rag_prompt = ChatPromptTemplate.from_messages(\n",
    "    [\n",
    "        (\"system\", system_prompt),\n",
    "        (\"human\", \"{input}\"),\n",
    "    ]\n",
    ")\n",
    "\n",
    "rag_chain = (\n",
    "    rag_prompt\n",
    "    | model\n",
    "    | StrOutputParser()\n",
    ")"
   ]
  },
  {
   "cell_type": "markdown",
   "metadata": {
    "id": "oyJb8R0yR8w4"
   },
   "source": [
    "### Ask questions of the retrieved case in relation to the law.\n",
    "\n",
    "Answer the question about each related case."
   ]
  },
  {
   "cell_type": "code",
   "execution_count": null,
   "metadata": {
    "id": "aRqQ9ZNIR8w4"
   },
   "outputs": [],
   "source": [
    "for case in cases[:2]:\n",
    "    # (vector_id, source_id, case_short_name, case_text, case_length) = case\n",
    "    response = rag_chain.invoke(input = {\"input\": query, \"case_text\": case['text']})\n",
    "    print(f\"Case {case['source_id']}: {case['short_name']}\\n\")\n",
    "    print(response, \"\\n\\n\")"
   ]
  }
 ],
 "metadata": {
  "colab": {
   "include_colab_link": true,
   "provenance": []
  },
  "language_info": {
   "name": "python"
  }
 },
 "nbformat": 4,
 "nbformat_minor": 0
}
